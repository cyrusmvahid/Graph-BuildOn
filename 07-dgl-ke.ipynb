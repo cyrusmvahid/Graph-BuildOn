{
 "cells": [
  {
   "cell_type": "markdown",
   "metadata": {},
   "source": [
    "# Introduction\n",
    "In a [previous post](Intro2KBE.html), I describes the KGE models that are implemented as a part of DGL-KE. This blog provides  details about optimizations that are implemented by DGL-KE that makes it very efficient for multi-device and distributed training as well as providing an example that can be run on a laptop. "
   ]
  },
  {
   "cell_type": "markdown",
   "metadata": {},
   "source": [
    "# What is DGL-KE\n",
    "DGL-KE is a high performance, easy-to-use, and scalable package for learning large-scale knowledge graph embeddings. DGL-KE contains a python package atop DGL in order to be able to take advantage of distributed graph operations implemented by DGL. DGL in turn takes advantage of popular deep learning libraries such as MXNet and Pytorch for performing tensor operations.\n",
    "![dgl-ke](images/03-dgl-ke.png)"
   ]
  },
  {
   "cell_type": "markdown",
   "metadata": {},
   "source": [
    "As illustrated in the picture above, DGL-KE implements some of the most popular knowledge embedding models such as TransE, TransR, RotateE, DistMulti, RESCAL, and ComplEx. More details about the models cab be found [here](http:./blogs/Intro2KBE.html). \n",
    "The models are implemented in python and rely on pytorch in order to run. The runtime includes DGL Graph for graph operations, DGL Sampler to perform sampling and triplets sampling, and a key-value pair in memory data store,DGL KVStore, specifically designed for DGL-KE to hold embedding in distributed training. The KV store has graph partitioning capabilities it uses to distribute graphs across multiple machines."
   ]
  },
  {
   "cell_type": "markdown",
   "metadata": {},
   "source": [
    "# Challenges Facing Knowledge Graph Embedding.\n",
    "\n",
    "\n",
    "Real world problems results in three main challenges for knowledge embedding:\n",
    "- Size: Some knowledge graphs could include millions of hundreds of millions of node, billion of edges, and tens of thousands of relations. Storing such enormous data structure and learning embeddings within it one of the challenges of KGE.\n",
    "- Sparsity: As there are many more items than relations, knowledge graphs represent highly sparse data. Computing embedding and dimension reduction for extremely large sparse data is computationally expensive.\n",
    "- Efficient distribution of large graphs as computationally independent subgraphs."
   ]
  },
  {
   "cell_type": "markdown",
   "metadata": {},
   "source": [
    "# DGL-KE Optimization Areas \n",
    "DGL-KE accelerates KGE training on knowledge graphs with millions of nodes and billions of edges using various deployment architectures and hardware profiles. DGL-KE implements various optimization and distribution innovations in order to :\n",
    "- Increase data locality\n",
    "- Reduce communication overhead.\n",
    "- Overlap computations with memory access.\n",
    "- Achieve high compute to memory density."
   ]
  },
  {
   "cell_type": "markdown",
   "metadata": {},
   "source": [
    "# Hardware Configurations\n",
    "- Multi-core CPU, where several cores on the same machine are used for training.\n",
    "- Multi-GPU, where several GPUs on the same machine are used.\n",
    "- Multi-machine in a CPU/GPU cluster, where a cluster of GPU machines are used to train an embedding."
   ]
  },
  {
   "cell_type": "markdown",
   "metadata": {},
   "source": [
    "# Training Process\n",
    "Training process involves two steps, assigning a set of distinct triplets to a process to form a mini-batch that can be trained independently and training a mini-batch.\n",
    "Data distribution has different topologies depending on what sort of environment we want to run the KGE. \n",
    "\n",
    "For multicore CPU, knowledge graph structure, entity embeddings, and relation embeddings are all on the same CPU shared memory and CPUs fetch data from memory and update the gradients back to the shared memory. \n",
    "\n",
    "In case of multi-GPU training, as entity embeddings are too large to fit into GPU memory, they are kept on the CPU shared memory along with the KG structure. Relation embeddings, however, are loaded onto GPU memory in order to reduce data transfer. GPU processes, read the data from the shared memory and update the gradients on the CPU shared memory.\n",
    "\n",
    "Cluster training is little bit different as we need to split the data and maximize locality per machine, so a kv-store server will be deployed across the training network and KG, structure, relation, and entity embeddings will be stored on the kv-store. kv-store automatically partitions the embedding, using a min-cut based graph partitioning method. The trainer prfocess, then uses *push* and *pull* API in order to fetch the data and send the gradients back. A short description of randomized min-cut is in the appendix A of this blog for those who want to know more about it.\n",
    "![](images/07-learning-process.png)"
   ]
  },
  {
   "cell_type": "markdown",
   "metadata": {},
   "source": [
    "# Negative Sampling\n",
    "DGL-KE constructs a large number of negative samples for each triplets. Sampling  is always performed on CPU and computation is offloaded to GPU, if GPU is available. In order to minimize data communication, only positive triplets are involved in creation and transferring of a batch. Negative samples are created based minibatch data and locally.\n",
    "\n",
    "simply performing a uniform sample from heads and tails and ignoring degree of each node, the number of edges that are connected to a node, results in *easy* negative samples. As nodes with higher degree require more data for more patterns to be discovered about them, we perform negative sampling proportional to degree of nodes. This results in creating of *hard* negative samples. \n",
    "\n",
    "![](images/07-nsampling.png)\n"
   ]
  },
  {
   "cell_type": "markdown",
   "metadata": {},
   "source": [
    "# Partitioning Relations\n",
    "The larger the ratio of actual relations in a knowledge graph to the batch size ($\\approx 1000$), the more sparse the relationship embedding will be. DGL-KE employs sparse relation embedding reads and sparse gradient update for communication efficiency. \n",
    "Additionally, to maximize localization, DGL-KE uses a load-balancing algorithm that minimized the number of distinct relations that are assigned to a partition.\n"
   ]
  },
  {
   "cell_type": "markdown",
   "metadata": {},
   "source": [
    "# Overlapping Gradient Updates and GPU Idling Reduction\n",
    "CPUs do process mini-batch creation and loading before sending them to GPUs for embeddings to be computed. This means if the process is run serially, the GPU has to wait for batch loader to finish first. To prevent GPU idling, DGL-KE mini batch for the next batch is computed while the current minibatch is processed by GPU. \n",
    "\n",
    "![](images/07-idling.png)\n",
    "\n",
    "Additionally as the number of relations is usually much smaller than the number of entities, entity embeddings is separated from relation embedding and is offloaded to a dedicated process per trainer. \n",
    "Preventing GPU idling provide a 40% speedup for most of the KGE models on Freebase dataset."
   ]
  },
  {
   "cell_type": "markdown",
   "metadata": {},
   "source": [
    "# Training Your First KG\n",
    "## Installing DGL-KE\n",
    "if you have conda installed on your machine, create an environment using the following command:\n",
    "\n",
    "```shell\n",
    ":~$conda create -n dgl_pytorch python==3.8\n",
    ":~$conda activate dgl_pytorch \n",
    "(dgl_pytorch)...:~$\n",
    "```\n",
    "Install appropriate version of pytorch on your machine. If you are using Mac, you can use \n",
    "\n",
    "```shell\n",
    "(dgl_pytorch)...:~$conda install pytorch torchvision -c pytorch\n",
    "```\n",
    "\n",
    "I am using an ubunto machine with 4 GPUs and CUDA 10.0, so I am running:\n",
    "\n",
    "```shell\n",
    "(dgl_pytorch)...:~$conda install pytorch torchvision cudatoolkit=10 -c pytorch`\n",
    "```\n",
    "Test your installation\n",
    "\n",
    "\n",
    "```shell\n",
    "(dgl_pytorch)...:~$python --version` #should output Python 3.8.0\n",
    "(dgl_pytorch)...:~$python\n",
    "```\n",
    "```python\n",
    ">>>import torch\n",
    "torch.__version__ #outputs the version number of pytorch you have installed. Mine is '1.5.0'\n",
    ">>>quit()\n",
    "```\n",
    "Install `dgl` and `dglke`:\n",
    "```shell\n",
    "(dgl_pytorch)...:~$pip install dgl dglke\n",
    "```\n",
    "Test your installation\n",
    "```shell\n",
    "(dgl_pytorch)...:~$python\n",
    "```\n",
    "```python\n",
    ">>> import dgl\n",
    ">>> import dglke\n",
    ">>> dgl.__version__, dglke.__version__ #It should output versions of dgl and dglke respectively. Mine is: ('0.4.3post2', '0.1.0')\n",
    ">>>quit()\n",
    "```\n",
    "\n",
    "## Let's run a quick test\n",
    "```shell\n",
    "# create a new workspace\n",
    "(dgl_pytorch)...:~$mkdir my_task && cd my_task\n",
    "# Train transE model on FB15k dataset\n",
    "(dgl_pytorch)...my_task:~$DGLBACKEND=pytorch \n",
    "(dgl_pytorch)...my_task:~$dglke_train --model_name TransE_l2 --dataset FB15k --batch_size 1000 \\\n",
    "--neg_sample_size 200 --hidden_dim 400 --gamma 19.9 --lr 0.25 --max_step 500 --log_interval 100 \\\n",
    "--batch_size_eval 16 -adv --regularization_coef 1.00E-09 --test --num_thread 1 --num_proc 8\n",
    "```\n",
    "```\n",
    "-------------- Test result --------------\n",
    "Test average MRR : 0.47339627234644155\n",
    "Test average MR : 58.33693352067851\n",
    "Test average HITS@1 : 0.2806791826784717\n",
    "Test average HITS@3 : 0.6246889336561088\n",
    "Test average HITS@10 : 0.7729342655448528\n",
    "-----------------------------------------\n",
    "```\n"
   ]
  },
  {
   "cell_type": "markdown",
   "metadata": {},
   "source": [
    "## What did just happen?\n",
    "First we set the backend of dgl to be pytorch. You could have chosen MXNet or Tensorflow. We then creating a training task using `dglke-train`. the training task is using `TransE` with `L2` loss, downloads `FB15k` dataset. We have instructed the model to build $k=200$ negative samples with $\\gamma=400$ for embedding dimension.\n",
    "`batch_size` is obviously 1000 with `batch_size_eval=16` as hyper-parameter used for the test.\n",
    "\n",
    "# What's next?\n",
    "Next we will implement a simple custom KGE task in a separate post."
   ]
  }
 ],
 "metadata": {
  "celltoolbar": "Slideshow",
  "kernelspec": {
   "display_name": "Python 3",
   "language": "python",
   "name": "python3"
  },
  "language_info": {
   "codemirror_mode": {
    "name": "ipython",
    "version": 3
   },
   "file_extension": ".py",
   "mimetype": "text/x-python",
   "name": "python",
   "nbconvert_exporter": "python",
   "pygments_lexer": "ipython3",
   "version": "3.9.12"
  }
 },
 "nbformat": 4,
 "nbformat_minor": 4
}
